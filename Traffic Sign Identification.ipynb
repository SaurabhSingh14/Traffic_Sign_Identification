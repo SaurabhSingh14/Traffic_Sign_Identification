{
 "cells": [
  {
   "cell_type": "markdown",
   "id": "cbc0c704",
   "metadata": {},
   "source": [
    "The aim of this project is to classify correct traffic signs by looking at the image. The dataset is taken from kaggle and the core implementation is done using Convolutional Neural Network.\n",
    "\n",
    "The dataset has 43 different classes that are required to predict, one at a time, by providing corresponding images to the model."
   ]
  },
  {
   "cell_type": "markdown",
   "id": "e9eb8383",
   "metadata": {},
   "source": [
    "### Importing the standard libraries"
   ]
  },
  {
   "cell_type": "code",
   "execution_count": 2,
   "id": "cef7b092",
   "metadata": {},
   "outputs": [],
   "source": [
    "import numpy as np\n",
    "import tensorflow as tf\n",
    "from keras.utils import to_categorical"
   ]
  },
  {
   "cell_type": "code",
   "execution_count": 3,
   "id": "3acce636",
   "metadata": {},
   "outputs": [],
   "source": [
    "import os\n",
    "from PIL import Image"
   ]
  },
  {
   "cell_type": "markdown",
   "id": "10672717",
   "metadata": {},
   "source": [
    "### Training images data preprocessing"
   ]
  },
  {
   "cell_type": "code",
   "execution_count": 4,
   "id": "3362de3d",
   "metadata": {},
   "outputs": [],
   "source": [
    "classes = 43 #Total number of classes available to classify\n",
    "data = [] #To hold image's data in the form of arrays after resizing.\n",
    "labels = [] #To hold image's corresponding label\n",
    "for i in range(classes):\n",
    "    img_path = os.path.join('data\\Train', str(i)) #Setting up the path\n",
    "    for img in os.listdir(img_path): #Iterating through each image\n",
    "        im = Image.open(img_path+'/'+img)\n",
    "        im = im.resize((30,30)) #Resizing the image\n",
    "        data.append(np.array(im)) #appending image's array data inside data list defined above\n",
    "        labels.append(i) #Appending labels\n",
    "\n",
    "data = np.array(data) #converting data of list type into ndimensional array type\n",
    "labels = np.array(labels) #Doing the same as above with labels"
   ]
  },
  {
   "cell_type": "code",
   "execution_count": 5,
   "id": "7041d760",
   "metadata": {},
   "outputs": [
    {
     "data": {
      "image/png": "[encoded data removed]",
      "text/plain": [
       "<Figure size 432x288 with 1 Axes>"
      ]
     },
     "metadata": {
      "needs_background": "light"
     },
     "output_type": "display_data"
    }
   ],
   "source": [
    "import matplotlib.pyplot as plt\n",
    "img = Image.open(r'data\\Train\\0\\00000_00001_00000.png') #Opening the image in order to show after reducing its size.\n",
    "img = img.resize((30, 30)) #Reducing the size of image\n",
    "sr = np.array(img) \n",
    "plt.imshow(img)\n",
    "plt.show()"
   ]
  },
  {
   "cell_type": "markdown",
   "id": "a0a86993",
   "metadata": {},
   "source": [
    "### Splitting the dataset"
   ]
  },
  {
   "cell_type": "code",
   "execution_count": 6,
   "id": "661580d9",
   "metadata": {},
   "outputs": [
    {
     "name": "stdout",
     "output_type": "stream",
     "text": [
      "training shape:  (31367, 30, 30, 3) (31367,)\n",
      "testing shape:  (7842, 30, 30, 3) (7842,)\n"
     ]
    }
   ],
   "source": [
    "from sklearn.model_selection import train_test_split\n",
    "\n",
    "#Splitting the training data into 80-20%\n",
    "x_train, x_test, y_train, y_test = train_test_split(data, labels, test_size=0.2, random_state=42)\n",
    "print(\"training shape: \",x_train.shape, y_train.shape)\n",
    "print(\"testing shape: \",x_test.shape, y_test.shape)\n",
    "y_train = to_categorical(y_train, 43)\n",
    "y_test = to_categorical(y_test, 43)"
   ]
  },
  {
   "cell_type": "markdown",
   "id": "86f30175",
   "metadata": {},
   "source": [
    "### Building the architecture of CNN"
   ]
  },
  {
   "cell_type": "code",
   "execution_count": 7,
   "id": "53a22b1e",
   "metadata": {},
   "outputs": [],
   "source": [
    "cnn = tf.keras.models.Sequential()\n",
    "#Creating convolutional layer with 32 different feature detectors of size 5X5\n",
    "cnn.add(tf.keras.layers.Conv2D(filters = 32, kernel_size = 5, activation = \"relu\", input_shape = x_train.shape[1:]))\n",
    "cnn.add(tf.keras.layers.Conv2D(filters = 32, kernel_size = 5, activation = \"relu\"))\n",
    "#Creating pooling layer of size 2X2 to keep spatial invariance\n",
    "cnn.add(tf.keras.layers.MaxPool2D(pool_size = 2))\n",
    "#To avoid overfitting\n",
    "cnn.add(tf.keras.layers.Dropout(rate=0.25))\n",
    "\n",
    "#Repeating the same procedure to make another set of Convolutional and Pooling layer\n",
    "cnn.add(tf.keras.layers.Conv2D(filters = 64, kernel_size = 3, activation = \"relu\"))\n",
    "cnn.add(tf.keras.layers.Conv2D(filters = 64, kernel_size = 3, activation = \"relu\"))\n",
    "cnn.add(tf.keras.layers.MaxPool2D(pool_size = 2))\n",
    "cnn.add(tf.keras.layers.Dropout(rate=0.25))\n",
    "\n",
    "#Flattening the map values to give input to the neural network.\n",
    "cnn.add(tf.keras.layers.Flatten())\n",
    "\n",
    "#Making hidden layer of neuron 256 units\n",
    "cnn.add(tf.keras.layers.Dense(units = 256, activation = 'relu'))\n",
    "cnn.add(tf.keras.layers.Dropout(rate=0.5))\n",
    "\n",
    "#Creating output layer for 43 different classes\n",
    "cnn.add(tf.keras.layers.Dense(units = 43, activation = 'softmax'))"
   ]
  },
  {
   "cell_type": "markdown",
   "id": "4b1ea262",
   "metadata": {},
   "source": [
    "### Intializing and training the model"
   ]
  },
  {
   "cell_type": "code",
   "execution_count": 8,
   "id": "c5d0c82b",
   "metadata": {},
   "outputs": [],
   "source": [
    "#Compiling with adam optimizer to implement stochastic technique to backpropagate the error.\n",
    "cnn.compile(optimizer = 'adam', loss = 'categorical_crossentropy', metrics = ['accuracy'])"
   ]
  },
  {
   "cell_type": "code",
   "execution_count": 9,
   "id": "fb7829d3",
   "metadata": {},
   "outputs": [
    {
     "name": "stdout",
     "output_type": "stream",
     "text": [
      "Epoch 1/15\n",
      "491/491 [==============================] - 101s 206ms/step - loss: 2.4347 - accuracy: 0.3972 - val_loss: 0.8044 - val_accuracy: 0.8196\n",
      "Epoch 2/15\n",
      "491/491 [==============================] - 100s 205ms/step - loss: 0.7074 - accuracy: 0.7941 - val_loss: 0.1880 - val_accuracy: 0.9592\n",
      "Epoch 3/15\n",
      "491/491 [==============================] - 100s 204ms/step - loss: 0.4020 - accuracy: 0.8806 - val_loss: 0.1028 - val_accuracy: 0.9744\n",
      "Epoch 4/15\n",
      "491/491 [==============================] - 101s 206ms/step - loss: 0.2871 - accuracy: 0.9179 - val_loss: 0.0716 - val_accuracy: 0.9814\n",
      "Epoch 5/15\n",
      "491/491 [==============================] - 101s 205ms/step - loss: 0.2220 - accuracy: 0.9339 - val_loss: 0.0623 - val_accuracy: 0.9847\n",
      "Epoch 6/15\n",
      "491/491 [==============================] - 101s 206ms/step - loss: 0.2032 - accuracy: 0.9406 - val_loss: 0.0644 - val_accuracy: 0.9813\n",
      "Epoch 7/15\n",
      "491/491 [==============================] - 101s 205ms/step - loss: 0.1795 - accuracy: 0.9481 - val_loss: 0.0417 - val_accuracy: 0.9898\n",
      "Epoch 8/15\n",
      "491/491 [==============================] - 101s 205ms/step - loss: 0.1759 - accuracy: 0.9502 - val_loss: 0.0370 - val_accuracy: 0.9916\n",
      "Epoch 9/15\n",
      "491/491 [==============================] - 101s 205ms/step - loss: 0.1555 - accuracy: 0.9557 - val_loss: 0.0321 - val_accuracy: 0.9917\n",
      "Epoch 10/15\n",
      "491/491 [==============================] - 102s 208ms/step - loss: 0.1453 - accuracy: 0.9590 - val_loss: 0.0464 - val_accuracy: 0.9898\n",
      "Epoch 11/15\n",
      "491/491 [==============================] - 101s 206ms/step - loss: 0.1386 - accuracy: 0.9608 - val_loss: 0.0485 - val_accuracy: 0.9894\n",
      "Epoch 12/15\n",
      "491/491 [==============================] - 101s 205ms/step - loss: 0.1658 - accuracy: 0.9535 - val_loss: 0.0338 - val_accuracy: 0.9894\n",
      "Epoch 13/15\n",
      "491/491 [==============================] - 101s 205ms/step - loss: 0.1366 - accuracy: 0.9631 - val_loss: 0.0319 - val_accuracy: 0.9921\n",
      "Epoch 14/15\n",
      "491/491 [==============================] - 105s 213ms/step - loss: 0.1462 - accuracy: 0.9609 - val_loss: 0.0311 - val_accuracy: 0.9929\n",
      "Epoch 15/15\n",
      "491/491 [==============================] - 104s 213ms/step - loss: 0.1354 - accuracy: 0.9636 - val_loss: 0.0320 - val_accuracy: 0.9920\n"
     ]
    },
    {
     "data": {
      "text/plain": [
       "<tensorflow.python.keras.callbacks.History at 0x1fbaae90c40>"
      ]
     },
     "execution_count": 9,
     "metadata": {},
     "output_type": "execute_result"
    }
   ],
   "source": [
    "#Training the model for total epochs of 15 having batch size of 64 images data.\n",
    "cnn.fit(x_train, y_train, validation_data = (x_test, y_test), epochs = 15, batch_size=64)"
   ]
  },
  {
   "cell_type": "markdown",
   "id": "b4d9e2c0",
   "metadata": {},
   "source": [
    "Total accuracy on training dataset = 96.36%"
   ]
  },
  {
   "cell_type": "markdown",
   "id": "c2e372cc",
   "metadata": {},
   "source": [
    "### Model Evaluation on Test dataset"
   ]
  },
  {
   "cell_type": "code",
   "execution_count": 21,
   "id": "bd190ce0",
   "metadata": {},
   "outputs": [],
   "source": [
    "import pandas as pd\n",
    "\n",
    "#Evaluating on testing data\n",
    "from sklearn.metrics import accuracy_score\n",
    "test = pd.read_csv(r\"D:\\Deep Learning\\Traffic Sign Identification\\data\\Test.csv\")\n",
    "test_img_path = \"D:\\Deep Learning\\Traffic Sign Identification\\data\"\n",
    "test_imgs = test['Path'].values\n",
    "test_data = []\n",
    "test_labels = []\n",
    "for img in test_imgs:\n",
    "    im = Image.open(test_img_path + '/' + img)\n",
    "    im = im.resize((30,30))\n",
    "    im = np.array(im)\n",
    "    test_data.append(im)\n",
    "test_data = np.array(test_data)\n",
    "predictions = cnn.predict_classes(test_data) #Making predictions"
   ]
  },
  {
   "cell_type": "code",
   "execution_count": 22,
   "id": "2adaa9e0",
   "metadata": {},
   "outputs": [
    {
     "name": "stdout",
     "output_type": "stream",
     "text": [
      "[16  1 38 ...  6  7 10]\n"
     ]
    }
   ],
   "source": [
    "print(predictions)"
   ]
  },
  {
   "cell_type": "code",
   "execution_count": 24,
   "id": "1fb64274",
   "metadata": {},
   "outputs": [],
   "source": [
    "from sklearn.metrics import accuracy_score #To check the accuracy score."
   ]
  },
  {
   "cell_type": "code",
   "execution_count": 29,
   "id": "79c447d6",
   "metadata": {},
   "outputs": [],
   "source": [
    "test_labels = test['ClassId'].values"
   ]
  },
  {
   "cell_type": "code",
   "execution_count": 30,
   "id": "1f06c0e6",
   "metadata": {},
   "outputs": [
    {
     "data": {
      "text/plain": [
       "array([16,  1, 38, ...,  6,  7, 10], dtype=int64)"
      ]
     },
     "execution_count": 30,
     "metadata": {},
     "output_type": "execute_result"
    }
   ],
   "source": [
    "test_labels"
   ]
  },
  {
   "cell_type": "code",
   "execution_count": 31,
   "id": "505f3ff4",
   "metadata": {},
   "outputs": [
    {
     "data": {
      "text/plain": [
       "0.9620744259699129"
      ]
     },
     "execution_count": 31,
     "metadata": {},
     "output_type": "execute_result"
    }
   ],
   "source": [
    "accuracy_score(test_labels, predictions) #To predict accuracy."
   ]
  },
  {
   "cell_type": "markdown",
   "id": "9ca1e3b9",
   "metadata": {},
   "source": [
    "Total accuracy on testing dataset = 96.20%"
   ]
  },
  {
   "cell_type": "markdown",
   "id": "02a4184c",
   "metadata": {},
   "source": [
    "Our model looks pretty solid because both the datasets accuracy are pretty close to each other which converges upto approx 96%\n",
    "\n",
    "Training accuracy = 96.36%\n",
    "\n",
    "Testing accuracy = 96.20%\n"
   ]
  },
  {
   "cell_type": "markdown",
   "id": "e43c9d01",
   "metadata": {},
   "source": [
    "### Deploying the model"
   ]
  },
  {
   "cell_type": "code",
   "execution_count": 37,
   "id": "d95e1e79",
   "metadata": {},
   "outputs": [
    {
     "name": "stdout",
     "output_type": "stream",
     "text": [
      "Saved model to disk\n"
     ]
    }
   ],
   "source": [
    "from keras.models import model_from_json\n",
    "model_json = cnn.to_json()\n",
    "with open(\"model.json\", \"w\") as json_file:\n",
    "    json_file.write(model_json)\n",
    "\n",
    "# serialize weights to HDF5\n",
    "cnn.save_weights(\"model.h5\")\n",
    "print(\"Saved model to disk\")"
   ]
  },
  {
   "cell_type": "code",
   "execution_count": null,
   "id": "0fd619c7",
   "metadata": {},
   "outputs": [],
   "source": []
  },
  {
   "cell_type": "code",
   "execution_count": null,
   "id": "83ccf5ff",
   "metadata": {},
   "outputs": [],
   "source": []
  },
  {
   "cell_type": "code",
   "execution_count": null,
   "id": "413030d6",
   "metadata": {},
   "outputs": [],
   "source": []
  },
  {
   "cell_type": "code",
   "execution_count": null,
   "id": "1a1ac918",
   "metadata": {},
   "outputs": [],
   "source": []
  },
  {
   "cell_type": "code",
   "execution_count": null,
   "id": "2658b874",
   "metadata": {},
   "outputs": [],
   "source": []
  }
 ],
 "metadata": {
  "kernelspec": {
   "display_name": "Python 3",
   "language": "python",
   "name": "python3"
  },
  "language_info": {
   "codemirror_mode": {
    "name": "ipython",
    "version": 3
   },
   "file_extension": ".py",
   "mimetype": "text/x-python",
   "name": "python",
   "nbconvert_exporter": "python",
   "pygments_lexer": "ipython3",
   "version": "3.8.8"
  }
 },
 "nbformat": 4,
 "nbformat_minor": 5
}
